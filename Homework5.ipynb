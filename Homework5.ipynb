{
  "nbformat": 4,
  "nbformat_minor": 0,
  "metadata": {
    "colab": {
      "name": "Homework5.ipynb",
      "provenance": [],
      "authorship_tag": "ABX9TyN3ZOuwx5OHQmeaZN861u3f",
      "include_colab_link": true
    },
    "kernelspec": {
      "name": "python3",
      "display_name": "Python 3"
    },
    "language_info": {
      "name": "python"
    }
  },
  "cells": [
    {
      "cell_type": "markdown",
      "metadata": {
        "id": "view-in-github",
        "colab_type": "text"
      },
      "source": [
        "<a href=\"https://colab.research.google.com/github/JessicaWoods03/Comp411Assignments/blob/main/Homework5.ipynb\" target=\"_parent\"><img src=\"https://colab.research.google.com/assets/colab-badge.svg\" alt=\"Open In Colab\"/></a>"
      ]
    },
    {
      "cell_type": "markdown",
      "metadata": {
        "id": "LMZyrCl-dN3c"
      },
      "source": [
        "1. In the given data set, identify the number of missing values by column; treat the missing\n",
        "values by 1) keeping the rows with valid values, or 2) ?lling the missing values in col1 by\n",
        "most frequent number (implement both of them; you need strategy='most_frequent')"
      ]
    },
    {
      "cell_type": "code",
      "metadata": {
        "colab": {
          "base_uri": "https://localhost:8080/",
          "height": 204
        },
        "id": "t1Qz2m2oc7OB",
        "outputId": "aec84d02-0594-4a78-c019-1a6d3648eeff"
      },
      "source": [
        "import pandas as pd\n",
        "from io import StringIO\n",
        "import numpy as np\n",
        "csv_data = \\\n",
        "'''\n",
        "col1,col2\n",
        ",2.0\n",
        ",\n",
        "10.0,11.0\n",
        "1, 3\n",
        "1, 11\n",
        "'''\n",
        "df = pd.read_csv(StringIO(csv_data))\n",
        "df"
      ],
      "execution_count": 9,
      "outputs": [
        {
          "output_type": "execute_result",
          "data": {
            "text/html": [
              "<div>\n",
              "<style scoped>\n",
              "    .dataframe tbody tr th:only-of-type {\n",
              "        vertical-align: middle;\n",
              "    }\n",
              "\n",
              "    .dataframe tbody tr th {\n",
              "        vertical-align: top;\n",
              "    }\n",
              "\n",
              "    .dataframe thead th {\n",
              "        text-align: right;\n",
              "    }\n",
              "</style>\n",
              "<table border=\"1\" class=\"dataframe\">\n",
              "  <thead>\n",
              "    <tr style=\"text-align: right;\">\n",
              "      <th></th>\n",
              "      <th>col1</th>\n",
              "      <th>col2</th>\n",
              "    </tr>\n",
              "  </thead>\n",
              "  <tbody>\n",
              "    <tr>\n",
              "      <th>0</th>\n",
              "      <td>NaN</td>\n",
              "      <td>2.0</td>\n",
              "    </tr>\n",
              "    <tr>\n",
              "      <th>1</th>\n",
              "      <td>NaN</td>\n",
              "      <td>NaN</td>\n",
              "    </tr>\n",
              "    <tr>\n",
              "      <th>2</th>\n",
              "      <td>10.0</td>\n",
              "      <td>11.0</td>\n",
              "    </tr>\n",
              "    <tr>\n",
              "      <th>3</th>\n",
              "      <td>1.0</td>\n",
              "      <td>3.0</td>\n",
              "    </tr>\n",
              "    <tr>\n",
              "      <th>4</th>\n",
              "      <td>1.0</td>\n",
              "      <td>11.0</td>\n",
              "    </tr>\n",
              "  </tbody>\n",
              "</table>\n",
              "</div>"
            ],
            "text/plain": [
              "   col1  col2\n",
              "0   NaN   2.0\n",
              "1   NaN   NaN\n",
              "2  10.0  11.0\n",
              "3   1.0   3.0\n",
              "4   1.0  11.0"
            ]
          },
          "metadata": {
            "tags": []
          },
          "execution_count": 9
        }
      ]
    },
    {
      "cell_type": "code",
      "metadata": {
        "colab": {
          "base_uri": "https://localhost:8080/"
        },
        "id": "VN8nzIuUdt64",
        "outputId": "e71660f1-6f57-47fa-a1e9-134056dd92df"
      },
      "source": [
        " df.isnull().sum()"
      ],
      "execution_count": 10,
      "outputs": [
        {
          "output_type": "execute_result",
          "data": {
            "text/plain": [
              "col1    2\n",
              "col2    1\n",
              "dtype: int64"
            ]
          },
          "metadata": {
            "tags": []
          },
          "execution_count": 10
        }
      ]
    },
    {
      "cell_type": "code",
      "metadata": {
        "colab": {
          "base_uri": "https://localhost:8080/"
        },
        "id": "AphGWw8cd3Re",
        "outputId": "4feb6c07-0a49-4331-8741-60c2bedb7c2d"
      },
      "source": [
        "df.values"
      ],
      "execution_count": 11,
      "outputs": [
        {
          "output_type": "execute_result",
          "data": {
            "text/plain": [
              "array([[nan,  2.],\n",
              "       [nan, nan],\n",
              "       [10., 11.],\n",
              "       [ 1.,  3.],\n",
              "       [ 1., 11.]])"
            ]
          },
          "metadata": {
            "tags": []
          },
          "execution_count": 11
        }
      ]
    },
    {
      "cell_type": "code",
      "metadata": {
        "id": "GGsjcBO0d8_S"
      },
      "source": [
        "# remove rows that contain missing values\n",
        "df.dropna(axis=0) # axis=0 means by row; default\n",
        "df.dropna()\n",
        "df.dropna(axis=1)\n",
        "\n"
      ],
      "execution_count": null,
      "outputs": []
    },
    {
      "cell_type": "code",
      "metadata": {
        "id": "gtJ8ar5CeUlf"
      },
      "source": [
        "from sklearn.impute import SimpleImputer\n",
        "imr = SimpleImputer(missing_values=np.nan, strategy='most_frequent') #most frequent\n",
        "imr = imr.fit(df.values)\n",
        "imputed_data = imr.transform(df.values)\n",
        "imputed_data"
      ],
      "execution_count": null,
      "outputs": []
    },
    {
      "cell_type": "markdown",
      "metadata": {
        "id": "RpaKTzVLe327"
      },
      "source": [
        "2. Explain the transformer and estimator in sci-kit learn. What are the differences between\n",
        "them?\n",
        "\n",
        "Transformer: A Transformer is an algorithm which can transform one DataFrame into another DataFrame. E.g., an ML model is a Transformer which transforms DataFrame with features into a DataFrame with predictions. Estimator: An Estimator is an algorithm which can be fit on a DataFrame to produce a Transformer.\n",
        "\n",
        "Differences is:\n",
        "\n",
        "Transformer transforms the input data (X) in some ways.\n",
        "Estimator predicts a new value (or values) (y) by using the input data (X).\n",
        "3. In the given data set, generate the dummy variables for the categorical variables using onehot encoding; standardize the continuous variables."
      ]
    },
    {
      "cell_type": "code",
      "metadata": {
        "colab": {
          "base_uri": "https://localhost:8080/"
        },
        "id": "wsWfJRwPfHFm",
        "outputId": "0a09681d-1955-4538-b299-531270e87166"
      },
      "source": [
        "import pandas as pd\n",
        "import numpy as np\n",
        "from sklearn import preprocessing\n",
        "np.random.seed(123)\n",
        "df = pd.DataFrame(np.random.rand(10, 2),\n",
        " columns = ['col1', 'col2'])\n",
        "sf = preprocessing.scale(df) ##standardizes the variables\n",
        "df['col3'] = list(''.join(np.random.choice(list('abc')) for _ in range(len(df))))\n",
        "print(sf)\n",
        "print (df)"
      ],
      "execution_count": 38,
      "outputs": [
        {
          "output_type": "stream",
          "text": [
            "[[ 0.85137511 -0.77172075]\n",
            " [-1.18192049  0.42493074]\n",
            " [ 0.95095687 -0.15363214]\n",
            " [ 2.0822822   1.02744088]\n",
            " [-0.08183286 -0.29347528]\n",
            " [-0.67826343  1.22699138]\n",
            " [-0.26523672 -1.79366842]\n",
            " [-0.44071004  1.26736044]\n",
            " [-1.373984   -1.27121821]\n",
            " [ 0.13733337  0.33699135]]\n",
            "       col1      col2 col3\n",
            "0  0.696469  0.286139    a\n",
            "1  0.226851  0.551315    b\n",
            "2  0.719469  0.423106    a\n",
            "3  0.980764  0.684830    b\n",
            "4  0.480932  0.392118    a\n",
            "5  0.343178  0.729050    a\n",
            "6  0.438572  0.059678    a\n",
            "7  0.398044  0.737995    c\n",
            "8  0.182492  0.175452    b\n",
            "9  0.531551  0.531828    b\n"
          ],
          "name": "stdout"
        }
      ]
    },
    {
      "cell_type": "code",
      "metadata": {
        "colab": {
          "base_uri": "https://localhost:8080/",
          "height": 359
        },
        "id": "Gb3m8hJNiS_I",
        "outputId": "24b60aac-ff58-4694-b460-666b00e49402"
      },
      "source": [
        "size_mapping = {'a': 3,\n",
        " 'b': 2,\n",
        " 'c': 1}\n",
        "\n",
        "df['col3'] = df['col3'].map(size_mapping)\n",
        "df"
      ],
      "execution_count": 36,
      "outputs": [
        {
          "output_type": "execute_result",
          "data": {
            "text/html": [
              "<div>\n",
              "<style scoped>\n",
              "    .dataframe tbody tr th:only-of-type {\n",
              "        vertical-align: middle;\n",
              "    }\n",
              "\n",
              "    .dataframe tbody tr th {\n",
              "        vertical-align: top;\n",
              "    }\n",
              "\n",
              "    .dataframe thead th {\n",
              "        text-align: right;\n",
              "    }\n",
              "</style>\n",
              "<table border=\"1\" class=\"dataframe\">\n",
              "  <thead>\n",
              "    <tr style=\"text-align: right;\">\n",
              "      <th></th>\n",
              "      <th>col1</th>\n",
              "      <th>col2</th>\n",
              "      <th>col3</th>\n",
              "    </tr>\n",
              "  </thead>\n",
              "  <tbody>\n",
              "    <tr>\n",
              "      <th>0</th>\n",
              "      <td>0.696469</td>\n",
              "      <td>0.286139</td>\n",
              "      <td>3</td>\n",
              "    </tr>\n",
              "    <tr>\n",
              "      <th>1</th>\n",
              "      <td>0.226851</td>\n",
              "      <td>0.551315</td>\n",
              "      <td>2</td>\n",
              "    </tr>\n",
              "    <tr>\n",
              "      <th>2</th>\n",
              "      <td>0.719469</td>\n",
              "      <td>0.423106</td>\n",
              "      <td>3</td>\n",
              "    </tr>\n",
              "    <tr>\n",
              "      <th>3</th>\n",
              "      <td>0.980764</td>\n",
              "      <td>0.684830</td>\n",
              "      <td>2</td>\n",
              "    </tr>\n",
              "    <tr>\n",
              "      <th>4</th>\n",
              "      <td>0.480932</td>\n",
              "      <td>0.392118</td>\n",
              "      <td>3</td>\n",
              "    </tr>\n",
              "    <tr>\n",
              "      <th>5</th>\n",
              "      <td>0.343178</td>\n",
              "      <td>0.729050</td>\n",
              "      <td>3</td>\n",
              "    </tr>\n",
              "    <tr>\n",
              "      <th>6</th>\n",
              "      <td>0.438572</td>\n",
              "      <td>0.059678</td>\n",
              "      <td>3</td>\n",
              "    </tr>\n",
              "    <tr>\n",
              "      <th>7</th>\n",
              "      <td>0.398044</td>\n",
              "      <td>0.737995</td>\n",
              "      <td>1</td>\n",
              "    </tr>\n",
              "    <tr>\n",
              "      <th>8</th>\n",
              "      <td>0.182492</td>\n",
              "      <td>0.175452</td>\n",
              "      <td>2</td>\n",
              "    </tr>\n",
              "    <tr>\n",
              "      <th>9</th>\n",
              "      <td>0.531551</td>\n",
              "      <td>0.531828</td>\n",
              "      <td>2</td>\n",
              "    </tr>\n",
              "  </tbody>\n",
              "</table>\n",
              "</div>"
            ],
            "text/plain": [
              "       col1      col2  col3\n",
              "0  0.696469  0.286139     3\n",
              "1  0.226851  0.551315     2\n",
              "2  0.719469  0.423106     3\n",
              "3  0.980764  0.684830     2\n",
              "4  0.480932  0.392118     3\n",
              "5  0.343178  0.729050     3\n",
              "6  0.438572  0.059678     3\n",
              "7  0.398044  0.737995     1\n",
              "8  0.182492  0.175452     2\n",
              "9  0.531551  0.531828     2"
            ]
          },
          "metadata": {
            "tags": []
          },
          "execution_count": 36
        }
      ]
    },
    {
      "cell_type": "code",
      "metadata": {
        "colab": {
          "base_uri": "https://localhost:8080/"
        },
        "id": "fBKxqyhbjFcc",
        "outputId": "81476155-8e1e-41b1-bd1f-93204a7ad6cf"
      },
      "source": [
        "X = df[['col1', 'col2', 'col3']].values\n",
        "print(X)\n"
      ],
      "execution_count": 40,
      "outputs": [
        {
          "output_type": "stream",
          "text": [
            "[[0.6964691855978616 0.28613933495037946 'a']\n",
            " [0.2268514535642031 0.5513147690828912 'b']\n",
            " [0.7194689697855631 0.42310646012446096 'a']\n",
            " [0.9807641983846155 0.6848297385848633 'b']\n",
            " [0.48093190148436094 0.3921175181941505 'a']\n",
            " [0.3431780161508694 0.7290497073840416 'a']\n",
            " [0.4385722446796244 0.05967789660956835 'a']\n",
            " [0.3980442553304314 0.7379954057320357 'c']\n",
            " [0.18249173045349998 0.17545175614749253 'b']\n",
            " [0.5315513738418384 0.5318275870968661 'b']]\n"
          ],
          "name": "stdout"
        }
      ]
    },
    {
      "cell_type": "code",
      "metadata": {
        "id": "6JCiGg60jhm4"
      },
      "source": [
        ""
      ],
      "execution_count": null,
      "outputs": []
    },
    {
      "cell_type": "markdown",
      "metadata": {
        "id": "nR0aDxf1fRdk"
      },
      "source": [
        "4. Assume col3 is the response variable, separate the original data set in #3 into 80% training\n",
        "and 20% test."
      ]
    },
    {
      "cell_type": "code",
      "metadata": {
        "id": "KmLMKxJWfK0_"
      },
      "source": [
        "from sklearn.model_selection import train_test_split\n",
        "from sklearn import datasets\n",
        "X1, y = df.iloc[:, 1:].values, df.iloc[:, 0].values \n",
        "X_train1, X_test1, y_train1, y_test1 = train_test_split(X1, y, test_size=0.2, random_state=1)"
      ],
      "execution_count": 65,
      "outputs": []
    },
    {
      "cell_type": "markdown",
      "metadata": {
        "id": "BAmZCa3TfWGE"
      },
      "source": [
        "5. Load sci-kit learn's diabetes data set by load_diabetes(), pick the top 3 most discriminative\n",
        "features using Random Forest."
      ]
    },
    {
      "cell_type": "code",
      "metadata": {
        "colab": {
          "base_uri": "https://localhost:8080/"
        },
        "id": "f-_lbPevfZq9",
        "outputId": "6efef496-8fa3-4a78-808d-32e41d9e77e1"
      },
      "source": [
        "from sklearn import datasets\n",
        "from sklearn.ensemble import RandomForestClassifier\n",
        "forest = RandomForestClassifier(n_estimators=500,\n",
        " random_state=1)\n",
        "\n",
        "diabetes = datasets.load_diabetes()\n",
        "##print(diabetes)\n",
        "X2 = diabetes.data\n",
        "y2 = diabetes.target\n",
        "##print(X2)\n",
        "X_train1, X_test1, y_train1, y_test1 = train_test_split(X2, y2, test_size=0.2, random_state=1)\n",
        "forest.fit(X_train1, y_train1)\n",
        "importances = forest.feature_importances_\n",
        "print(importances)\n",
        "feature_names = ['age', 'sex', 'bmi', 'bp', 's1', 's2', 's3', 's4', 's5', 's6']\n",
        "print(feature_names)\n",
        "\n",
        "indices = np.argsort(importances)[::-1]\n",
        "for f in range(X_train1.shape[1]):\n",
        " print(\"%2d) %-*s %f\" % (f + 1, 30,\n",
        " feature_names[indices[f]],\n",
        " importances[indices[f]]))\n",
        "\n"
      ],
      "execution_count": 63,
      "outputs": [
        {
          "output_type": "stream",
          "text": [
            "[0.1113085  0.02704973 0.12324801 0.11205885 0.11313243 0.11363063\n",
            " 0.10826241 0.05768598 0.11911372 0.11450975]\n",
            "['age', 'sex', 'bmi', 'bp', 's1', 's2', 's3', 's4', 's5', 's6']\n",
            " 1) bmi                            0.123248\n",
            " 2) s5                             0.119114\n",
            " 3) s6                             0.114510\n",
            " 4) s2                             0.113631\n",
            " 5) s1                             0.113132\n",
            " 6) bp                             0.112059\n",
            " 7) age                            0.111308\n",
            " 8) s3                             0.108262\n",
            " 9) s4                             0.057686\n",
            "10) sex                            0.027050\n"
          ],
          "name": "stdout"
        }
      ]
    }
  ]
}