{
  "nbformat": 4,
  "nbformat_minor": 0,
  "metadata": {
    "colab": {
      "name": "Homework3.ipynb",
      "provenance": [],
      "authorship_tag": "ABX9TyP/47skSBFBwCSa8PE3q/OY",
      "include_colab_link": true
    },
    "kernelspec": {
      "name": "python3",
      "display_name": "Python 3"
    }
  },
  "cells": [
    {
      "cell_type": "markdown",
      "metadata": {
        "id": "view-in-github",
        "colab_type": "text"
      },
      "source": [
        "<a href=\"https://colab.research.google.com/github/JessicaWoods03/Comp411Assignments/blob/main/Homework3.ipynb\" target=\"_parent\"><img src=\"https://colab.research.google.com/assets/colab-badge.svg\" alt=\"Open In Colab\"/></a>"
      ]
    },
    {
      "cell_type": "markdown",
      "metadata": {
        "id": "QGozP6cdFwKp"
      },
      "source": [
        "Homework 3\n",
        "Jessica Woods\n"
      ]
    },
    {
      "cell_type": "code",
      "metadata": {
        "id": "6qOPTvKKZ-hs"
      },
      "source": [
        "%tensorflow_version 2.x\n",
        "from __future__ import absolute_import, division, print_function, unicode_literals\n",
        "import pandas as pd\n",
        "import tensorflow as tf\n",
        "import matplotlib.pyplot as plt\n",
        "import numpy as np\n"
      ],
      "execution_count": 16,
      "outputs": []
    },
    {
      "cell_type": "code",
      "metadata": {
        "id": "70J8vc_ibEz9"
      },
      "source": [
        "CSV_COLUMN_NAMES = ['fruit_name', 'mass', 'height']\n",
        "FRUIT_NAME = ['lemon', 'apple', 'mandarin']\n",
        "getting_file = tf.keras.utils.get_file(\"fruit.csv\", \"https://raw.githubusercontent.com/franklin-univ-data-science/data/master/fruit.csv\")\n",
        "reading_file = pd.read_csv(getting_file, names=CSV_COLUMN_NAMES, header=0)"
      ],
      "execution_count": 12,
      "outputs": []
    },
    {
      "cell_type": "code",
      "metadata": {
        "id": "13mt6a_Af3fE"
      },
      "source": [
        "print(train)"
      ],
      "execution_count": null,
      "outputs": []
    },
    {
      "cell_type": "markdown",
      "metadata": {
        "id": "ouUbTXJ3iFlq"
      },
      "source": [
        "Define target Vector IsLemon"
      ]
    },
    {
      "cell_type": "code",
      "metadata": {
        "id": "GZFrfkHyiC6S"
      },
      "source": [
        "IsLemon = reading_file.iloc[0: 40, 1]\n",
        "IsLemon = np.where(IsLemon == 'lemon', -1, 1)"
      ],
      "execution_count": 17,
      "outputs": []
    },
    {
      "cell_type": "markdown",
      "metadata": {
        "id": "1m1F7kSej-Xu"
      },
      "source": [
        "define feature matrix"
      ]
    },
    {
      "cell_type": "code",
      "metadata": {
        "id": "CjQY3TBfkCzN"
      },
      "source": [
        "MATRIX = reading_file.iloc[0:40, [1,2]].values"
      ],
      "execution_count": 18,
      "outputs": []
    },
    {
      "cell_type": "markdown",
      "metadata": {
        "id": "2Z1FnxepoRju"
      },
      "source": [
        "plot data for scatter plot, homework question #3"
      ]
    },
    {
      "cell_type": "code",
      "metadata": {
        "colab": {
          "base_uri": "https://localhost:8080/",
          "height": 296
        },
        "id": "NNgLI8kwoYj_",
        "outputId": "e71605b6-138f-4872-fa56-058115c348d1"
      },
      "source": [
        "plt.scatter(MATRIX[:16, 0], MATRIX[:16, 1], color='blue', marker='o', label='lemon')\n",
        "plt.scatter(MATRIX[16:35, 0], MATRIX[16:35, 1], color='red', marker='x', label='apple')\n",
        "plt.scatter(MATRIX[35:40, 0], MATRIX[35:40, 1], color='green', marker='x', label='mandarin')\n",
        "plt.xlabel('mass')\n",
        "plt.ylabel('height')"
      ],
      "execution_count": 25,
      "outputs": [
        {
          "output_type": "execute_result",
          "data": {
            "text/plain": [
              "Text(0, 0.5, 'height')"
            ]
          },
          "metadata": {
            "tags": []
          },
          "execution_count": 25
        },
        {
          "output_type": "display_data",
          "data": {
            "image/png": "[encoded data removed]",
            "text/plain": [
              "<Figure size 432x288 with 1 Axes>"
            ]
          },
          "metadata": {
            "tags": [],
            "needs_background": "light"
          }
        }
      ]
    },
    {
      "cell_type": "markdown",
      "metadata": {
        "id": "ZTWgnn2OwvUT"
      },
      "source": [
        "Adding the perception algorithm"
      ]
    },
    {
      "cell_type": "code",
      "metadata": {
        "colab": {
          "base_uri": "https://localhost:8080/",
          "height": 296
        },
        "id": "dSLVToMkw3jJ",
        "outputId": "84c43b81-e1bd-4058-fa99-4631fcb5d97c"
      },
      "source": [
        "class Perception():\n",
        "  def __init__(self, eta=0.01, n_iter=40, random_state=1):\n",
        "    self.eta = eta\n",
        "    self.n_iter = n_iter\n",
        "    self.random_state = random_state\n",
        "  \n",
        "  def fit(self, X, y):\n",
        "    rgen = np.random.RandomState(self.random_state)\n",
        "    self.w_ = rgen.normal(loc=0.0, scale=0.01, size=X.shape[1])\n",
        "    self.errors_ = []\n",
        "  \n",
        "    for _ in range(self.n_iter):\n",
        "      errors = 0\n",
        "      for xi, target in zip(X, y) :\n",
        "        update = self.eta * (target - self.predict(xi))\n",
        "        self.w_ += update * xi\n",
        "        errors += int(update != 0.0)\n",
        "      self.errors_.append(errors)\n",
        "    return self\n",
        "  def net_input(self, X):\n",
        "    return X @ self.w_\n",
        "\n",
        "  def predict(self, X):\n",
        "    return np.where(self.net_input(X) >= 0.0, 1, -1)\n",
        "  \n",
        "#ok the class is done\n",
        "\n",
        "m = IsLemon.size\n",
        "vector_ones = np.ones(m).reshape(m, 1)\n",
        "MATRIX1 = np.hstack([vector_ones, MATRIX])\n",
        "ppn = Perception(eta=0.1, n_iter=100)\n",
        "ppn.fit(MATRIX, IsLemon)\n",
        "plt.plot(range(1, ppn.n_iter + 1), ppn.errors_, marker='o')\n",
        "plt.xlabel('Epochs')\n",
        "plt.ylabel('Numober of updates')\n"
      ],
      "execution_count": 36,
      "outputs": [
        {
          "output_type": "execute_result",
          "data": {
            "text/plain": [
              "Text(0, 0.5, 'Numober of updates')"
            ]
          },
          "metadata": {
            "tags": []
          },
          "execution_count": 36
        },
        {
          "output_type": "display_data",
          "data": {
            "image/png": "[encoded data removed]",
            "text/plain": [
              "<Figure size 432x288 with 1 Axes>"
            ]
          },
          "metadata": {
            "tags": [],
            "needs_background": "light"
          }
        }
      ]
    },
    {
      "cell_type": "markdown",
      "metadata": {
        "id": "GfOurB9Z8PVz"
      },
      "source": [
        "5. So I used the one in lecture notes and it flat lined LOL- the one that is different in the text book- Text book did adaptive linear neuron classifier. It says read chapter 2 for that week- but they are actually the same- I printed it out and compared the lecture notes to the text book?? I don't know what I am suppose to look for?\n",
        "\n",
        "6.   So the material was pretty interesting. I was already familiar with scatter plots. I was behind one assignment, and Learned more details on the mathmatics of W^tx. Which was interesting, and the Professor explained how having certian values from W^Tx are important to predicitons. I learned alot about sin an cosine effects on the hyperplanes while i wsa googling W^Tx.\n",
        "\n",
        "     It was fun to work with new data. I keep switching back and forth between co-labs and ipython files. This assignment required two paragrahs and I found co-labs to be more useful in writing.  Perception class was a new class to learn. I don't exactly know what we are going to do with it to make it useful though? I love working with new data though. It wasn't alot of data, but still fun to work with. I love this class! I did get lost at first, but my professor was quick to help me out."
      ]
    }
  ]
}