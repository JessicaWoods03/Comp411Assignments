{
 "cells": [
  {
   "cell_type": "code",
   "execution_count": null,
   "metadata": {},
   "outputs": [],
   "source": [
    "\"\"\"\"\n",
    "HW 2 Jessica Woods\n",
    "\n",
    " 1. Explain feature and targets\n",
    " \n",
    " Features or variables or attributes are the measured \n",
    " inputs of the problem domain, the independent variables. \n",
    " The target variable is the dependent variable \n",
    "or the measure we're trying to model or forecast. \n",
    " Not all problems can be or need to be formulated in such a way.\n",
    " \n",
    " 2. Whats the difference between supervised learning and unsupervised learning?\n",
    " \n",
    " Unsupervised learning is a machine learning technique, where you do not need to supervise the model. \n",
    " Supervised learning allows you to collect data or produce a data output from the previous experience.\n",
    " \n",
    "\n",
    " 3. Explain classification and regression differences\n",
    " \n",
    " Regression is an algorithm in supervised machine learning that can be trained to \n",
    " predict real number outputs. Classification is an algorithm in supervised \n",
    " machine learning that is trained to identify \n",
    " categories and predict in which category they fall for new values.\n",
    "\n",
    "I am interested in weather predictions, which would be a classification ,\n",
    "I already did a stock predictions\n",
    " which is regression-\n",
    " \n",
    " 4. Describe the roadmap of building a machine learning system?\n",
    " A roadmap that outlines the main stages of building a robust ML \n",
    " program as well as tips for avoiding common ML pitfalls.\n",
    " Preprocessing – getting data into shape\n",
    " Training and selecting a predictive model\n",
    " Evaluating models and predicting unseen data instances\n",
    " \n",
    " 5. In the iris data set explain what are x3, x3, and x33-\n",
    " To refer to single elements in a vector or matrix\n",
    " and x33 = third dimension of flower sample 3\n",
    " one is deminsions and the other is the sample-\n",
    " \n",
    " 6. Let w and x be vectors ...blah blah blah\n",
    " What is wtx?\n",
    " Its about hyperplanes, and making a prediction\n",
    " \n",
    " 7. see below-\n",
    "\"\"\"\n"
   ]
  },
  {
   "cell_type": "code",
   "execution_count": 13,
   "metadata": {},
   "outputs": [
    {
     "name": "stdout",
     "output_type": "stream",
     "text": [
      "[ 2  9 -4]\n"
     ]
    },
    {
     "data": {
      "text/plain": [
       "7"
      ]
     },
     "execution_count": 13,
     "metadata": {},
     "output_type": "execute_result"
    }
   ],
   "source": [
    "import numpy as np\n",
    "from numpy import array\n",
    "\n",
    "w = np.array([1, 3, -1])\n",
    "\n",
    "x = np.array([2, 3, 4])\n",
    "\n",
    "print(w.T*x)\n",
    "\n",
    "np.dot(w,x)\n",
    "\n",
    "\n",
    "\n",
    "\n"
   ]
  },
  {
   "cell_type": "code",
   "execution_count": null,
   "metadata": {},
   "outputs": [],
   "source": []
  }
 ],
 "metadata": {
  "kernelspec": {
   "display_name": "Python 3",
   "language": "python",
   "name": "python3"
  },
  "language_info": {
   "codemirror_mode": {
    "name": "ipython",
    "version": 3
   },
   "file_extension": ".py",
   "mimetype": "text/x-python",
   "name": "python",
   "nbconvert_exporter": "python",
   "pygments_lexer": "ipython3",
   "version": "3.7.3"
  }
 },
 "nbformat": 4,
 "nbformat_minor": 2
}
